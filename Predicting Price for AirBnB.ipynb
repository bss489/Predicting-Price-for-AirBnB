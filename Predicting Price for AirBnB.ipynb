{
 "cells": [
  {
   "cell_type": "code",
   "execution_count": 4,
   "metadata": {
    "collapsed": true
   },
   "outputs": [],
   "source": [
    "import pandas as pd\n",
    "import os\n",
    "import geopy\n",
    "from geopy.distance import great_circle\n",
    "import numpy as np\n",
    "import matplotlib.pyplot as plt\n",
    "import seaborn as sns\n",
    "#os.chdir(\"D:\\airbnb_data\")\n",
    "from sklearn.preprocessing import LabelEncoder\n",
    "from __future__ import division\n",
    "from sklearn.preprocessing import MinMaxScaler\n",
    "from sklearn.preprocessing import OneHotEncoder\n",
    "from sklearn.model_selection import  train_test_split\n",
    "%matplotlib inline\n",
    "#importing all packages required "
   ]
  },
  {
   "cell_type": "code",
   "execution_count": 5,
   "metadata": {
    "collapsed": true
   },
   "outputs": [],
   "source": [
    "train = pd.read_csv('train_air.csv')\n",
    "test = pd.read_csv('test_air.csv')\n",
    "# importing train and test dataset"
   ]
  },
  {
   "cell_type": "code",
   "execution_count": 6,
   "metadata": {},
   "outputs": [
    {
     "data": {
      "text/html": [
       "<div>\n",
       "<style scoped>\n",
       "    .dataframe tbody tr th:only-of-type {\n",
       "        vertical-align: middle;\n",
       "    }\n",
       "\n",
       "    .dataframe tbody tr th {\n",
       "        vertical-align: top;\n",
       "    }\n",
       "\n",
       "    .dataframe thead th {\n",
       "        text-align: right;\n",
       "    }\n",
       "</style>\n",
       "<table border=\"1\" class=\"dataframe\">\n",
       "  <thead>\n",
       "    <tr style=\"text-align: right;\">\n",
       "      <th></th>\n",
       "      <th>Id</th>\n",
       "      <th>price</th>\n",
       "      <th>host_is_superhost</th>\n",
       "      <th>host_total_listings_count</th>\n",
       "      <th>host_identity_verified</th>\n",
       "      <th>latitude</th>\n",
       "      <th>longitude</th>\n",
       "      <th>property_type</th>\n",
       "      <th>room_type</th>\n",
       "      <th>accommodates</th>\n",
       "      <th>...</th>\n",
       "      <th>review_scores_accuracy</th>\n",
       "      <th>review_scores_cleanliness</th>\n",
       "      <th>review_scores_checkin</th>\n",
       "      <th>review_scores_communication</th>\n",
       "      <th>review_scores_location</th>\n",
       "      <th>review_scores_value</th>\n",
       "      <th>instant_bookable</th>\n",
       "      <th>is_business_travel_ready</th>\n",
       "      <th>cancellation_policy</th>\n",
       "      <th>reviews_per_month</th>\n",
       "    </tr>\n",
       "  </thead>\n",
       "  <tbody>\n",
       "    <tr>\n",
       "      <th>0</th>\n",
       "      <td>0</td>\n",
       "      <td>150</td>\n",
       "      <td>f</td>\n",
       "      <td>22.0</td>\n",
       "      <td>t</td>\n",
       "      <td>-33.846469</td>\n",
       "      <td>151.205171</td>\n",
       "      <td>Apartment</td>\n",
       "      <td>Entire home/apt</td>\n",
       "      <td>2</td>\n",
       "      <td>...</td>\n",
       "      <td>10.0</td>\n",
       "      <td>10.0</td>\n",
       "      <td>10.0</td>\n",
       "      <td>10.0</td>\n",
       "      <td>10.0</td>\n",
       "      <td>10.0</td>\n",
       "      <td>f</td>\n",
       "      <td>f</td>\n",
       "      <td>strict</td>\n",
       "      <td>0.53</td>\n",
       "    </tr>\n",
       "    <tr>\n",
       "      <th>1</th>\n",
       "      <td>1</td>\n",
       "      <td>66</td>\n",
       "      <td>f</td>\n",
       "      <td>1.0</td>\n",
       "      <td>t</td>\n",
       "      <td>-33.895736</td>\n",
       "      <td>151.173529</td>\n",
       "      <td>Apartment</td>\n",
       "      <td>Private room</td>\n",
       "      <td>2</td>\n",
       "      <td>...</td>\n",
       "      <td>NaN</td>\n",
       "      <td>NaN</td>\n",
       "      <td>NaN</td>\n",
       "      <td>NaN</td>\n",
       "      <td>NaN</td>\n",
       "      <td>NaN</td>\n",
       "      <td>f</td>\n",
       "      <td>f</td>\n",
       "      <td>flexible</td>\n",
       "      <td>NaN</td>\n",
       "    </tr>\n",
       "    <tr>\n",
       "      <th>2</th>\n",
       "      <td>2</td>\n",
       "      <td>325</td>\n",
       "      <td>t</td>\n",
       "      <td>1.0</td>\n",
       "      <td>t</td>\n",
       "      <td>-33.879322</td>\n",
       "      <td>151.222408</td>\n",
       "      <td>House</td>\n",
       "      <td>Entire home/apt</td>\n",
       "      <td>4</td>\n",
       "      <td>...</td>\n",
       "      <td>10.0</td>\n",
       "      <td>10.0</td>\n",
       "      <td>10.0</td>\n",
       "      <td>10.0</td>\n",
       "      <td>10.0</td>\n",
       "      <td>9.0</td>\n",
       "      <td>f</td>\n",
       "      <td>f</td>\n",
       "      <td>moderate</td>\n",
       "      <td>2.38</td>\n",
       "    </tr>\n",
       "    <tr>\n",
       "      <th>3</th>\n",
       "      <td>3</td>\n",
       "      <td>145</td>\n",
       "      <td>f</td>\n",
       "      <td>1.0</td>\n",
       "      <td>f</td>\n",
       "      <td>-33.856874</td>\n",
       "      <td>151.149600</td>\n",
       "      <td>House</td>\n",
       "      <td>Entire home/apt</td>\n",
       "      <td>6</td>\n",
       "      <td>...</td>\n",
       "      <td>10.0</td>\n",
       "      <td>10.0</td>\n",
       "      <td>10.0</td>\n",
       "      <td>10.0</td>\n",
       "      <td>10.0</td>\n",
       "      <td>10.0</td>\n",
       "      <td>f</td>\n",
       "      <td>f</td>\n",
       "      <td>flexible</td>\n",
       "      <td>1.96</td>\n",
       "    </tr>\n",
       "    <tr>\n",
       "      <th>4</th>\n",
       "      <td>4</td>\n",
       "      <td>200</td>\n",
       "      <td>f</td>\n",
       "      <td>6.0</td>\n",
       "      <td>t</td>\n",
       "      <td>-33.907150</td>\n",
       "      <td>151.178552</td>\n",
       "      <td>House</td>\n",
       "      <td>Entire home/apt</td>\n",
       "      <td>4</td>\n",
       "      <td>...</td>\n",
       "      <td>10.0</td>\n",
       "      <td>10.0</td>\n",
       "      <td>10.0</td>\n",
       "      <td>10.0</td>\n",
       "      <td>10.0</td>\n",
       "      <td>10.0</td>\n",
       "      <td>f</td>\n",
       "      <td>f</td>\n",
       "      <td>moderate</td>\n",
       "      <td>2.73</td>\n",
       "    </tr>\n",
       "  </tbody>\n",
       "</table>\n",
       "<p>5 rows × 30 columns</p>\n",
       "</div>"
      ],
      "text/plain": [
       "   Id  price host_is_superhost  host_total_listings_count  \\\n",
       "0   0    150                 f                       22.0   \n",
       "1   1     66                 f                        1.0   \n",
       "2   2    325                 t                        1.0   \n",
       "3   3    145                 f                        1.0   \n",
       "4   4    200                 f                        6.0   \n",
       "\n",
       "  host_identity_verified   latitude   longitude property_type  \\\n",
       "0                      t -33.846469  151.205171     Apartment   \n",
       "1                      t -33.895736  151.173529     Apartment   \n",
       "2                      t -33.879322  151.222408         House   \n",
       "3                      f -33.856874  151.149600         House   \n",
       "4                      t -33.907150  151.178552         House   \n",
       "\n",
       "         room_type  accommodates  ...  review_scores_accuracy  \\\n",
       "0  Entire home/apt             2  ...                    10.0   \n",
       "1     Private room             2  ...                     NaN   \n",
       "2  Entire home/apt             4  ...                    10.0   \n",
       "3  Entire home/apt             6  ...                    10.0   \n",
       "4  Entire home/apt             4  ...                    10.0   \n",
       "\n",
       "   review_scores_cleanliness  review_scores_checkin  \\\n",
       "0                       10.0                   10.0   \n",
       "1                        NaN                    NaN   \n",
       "2                       10.0                   10.0   \n",
       "3                       10.0                   10.0   \n",
       "4                       10.0                   10.0   \n",
       "\n",
       "   review_scores_communication  review_scores_location  review_scores_value  \\\n",
       "0                         10.0                    10.0                 10.0   \n",
       "1                          NaN                     NaN                  NaN   \n",
       "2                         10.0                    10.0                  9.0   \n",
       "3                         10.0                    10.0                 10.0   \n",
       "4                         10.0                    10.0                 10.0   \n",
       "\n",
       "   instant_bookable  is_business_travel_ready  cancellation_policy  \\\n",
       "0                 f                         f               strict   \n",
       "1                 f                         f             flexible   \n",
       "2                 f                         f             moderate   \n",
       "3                 f                         f             flexible   \n",
       "4                 f                         f             moderate   \n",
       "\n",
       "   reviews_per_month  \n",
       "0               0.53  \n",
       "1                NaN  \n",
       "2               2.38  \n",
       "3               1.96  \n",
       "4               2.73  \n",
       "\n",
       "[5 rows x 30 columns]"
      ]
     },
     "execution_count": 6,
     "metadata": {},
     "output_type": "execute_result"
    }
   ],
   "source": [
    "train.head()"
   ]
  },
  {
   "cell_type": "code",
   "execution_count": 7,
   "metadata": {},
   "outputs": [
    {
     "data": {
      "text/plain": [
       "Index(['Id', 'price', 'host_is_superhost', 'host_total_listings_count',\n",
       "       'host_identity_verified', 'latitude', 'longitude', 'property_type',\n",
       "       'room_type', 'accommodates', 'bathrooms', 'bedrooms', 'beds',\n",
       "       'security_deposit', 'cleaning_fee', 'extra_people', 'minimum_nights',\n",
       "       'maximum_nights', 'number_of_reviews', 'review_scores_rating',\n",
       "       'review_scores_accuracy', 'review_scores_cleanliness',\n",
       "       'review_scores_checkin', 'review_scores_communication',\n",
       "       'review_scores_location', 'review_scores_value', 'instant_bookable',\n",
       "       'is_business_travel_ready', 'cancellation_policy', 'reviews_per_month'],\n",
       "      dtype='object')"
      ]
     },
     "execution_count": 7,
     "metadata": {},
     "output_type": "execute_result"
    }
   ],
   "source": [
    "train.columns"
   ]
  },
  {
   "cell_type": "code",
   "execution_count": 6,
   "metadata": {},
   "outputs": [
    {
     "data": {
      "text/plain": [
       "(1000, 30)"
      ]
     },
     "execution_count": 6,
     "metadata": {},
     "output_type": "execute_result"
    }
   ],
   "source": [
    "train.shape"
   ]
  },
  {
   "cell_type": "code",
   "execution_count": 8,
   "metadata": {},
   "outputs": [
    {
     "data": {
      "text/plain": [
       "(7967, 29)"
      ]
     },
     "execution_count": 8,
     "metadata": {},
     "output_type": "execute_result"
    }
   ],
   "source": [
    "test.shape"
   ]
  },
  {
   "cell_type": "code",
   "execution_count": 9,
   "metadata": {},
   "outputs": [
    {
     "name": "stderr",
     "output_type": "stream",
     "text": [
      "D:\\anaconda\\lib\\site-packages\\ipykernel_launcher.py:2: FutureWarning: Sorting because non-concatenation axis is not aligned. A future version\n",
      "of pandas will change to not sort by default.\n",
      "\n",
      "To accept the future behavior, pass 'sort=False'.\n",
      "\n",
      "To retain the current behavior and silence the warning, pass 'sort=True'.\n",
      "\n",
      "  \n"
     ]
    }
   ],
   "source": [
    "\"\"\" merging train and test for processing\"\"\"\n",
    "data = pd.concat([train,test])\n",
    "# processign train  and test seperately creates issues during one hot or dummies and creates different \n",
    "#columns which makes sklearn difficult to learn"
   ]
  },
  {
   "cell_type": "code",
   "execution_count": 10,
   "metadata": {},
   "outputs": [
    {
     "data": {
      "text/plain": [
       "(8967, 30)"
      ]
     },
     "execution_count": 10,
     "metadata": {},
     "output_type": "execute_result"
    }
   ],
   "source": [
    "data.shape"
   ]
  },
  {
   "cell_type": "code",
   "execution_count": 11,
   "metadata": {},
   "outputs": [
    {
     "data": {
      "text/plain": [
       "Id                               int64\n",
       "accommodates                     int64\n",
       "bathrooms                      float64\n",
       "bedrooms                       float64\n",
       "beds                           float64\n",
       "cancellation_policy             object\n",
       "cleaning_fee                   float64\n",
       "extra_people                     int64\n",
       "host_identity_verified          object\n",
       "host_is_superhost               object\n",
       "host_total_listings_count      float64\n",
       "instant_bookable                object\n",
       "is_business_travel_ready        object\n",
       "latitude                       float64\n",
       "longitude                      float64\n",
       "maximum_nights                   int64\n",
       "minimum_nights                   int64\n",
       "number_of_reviews                int64\n",
       "price                          float64\n",
       "property_type                   object\n",
       "review_scores_accuracy         float64\n",
       "review_scores_checkin          float64\n",
       "review_scores_cleanliness      float64\n",
       "review_scores_communication    float64\n",
       "review_scores_location         float64\n",
       "review_scores_rating           float64\n",
       "review_scores_value            float64\n",
       "reviews_per_month              float64\n",
       "room_type                       object\n",
       "security_deposit               float64\n",
       "dtype: object"
      ]
     },
     "execution_count": 11,
     "metadata": {},
     "output_type": "execute_result"
    }
   ],
   "source": [
    "data.dtypes\n",
    "#checking dtypes"
   ]
  },
  {
   "cell_type": "code",
   "execution_count": 12,
   "metadata": {
    "collapsed": true
   },
   "outputs": [],
   "source": [
    "\"\"\" we can see a lot of columns above are object. They should be categorical. Hence, I would capture all and\n",
    "convert them into categorical\"\"\"\n",
    "char_cols = data.dtypes.pipe(lambda x: x[x == 'object']).index\n",
    "#identifying the charecter / categorical columns"
   ]
  },
  {
   "cell_type": "code",
   "execution_count": 13,
   "metadata": {},
   "outputs": [
    {
     "name": "stdout",
     "output_type": "stream",
     "text": [
      "Index(['cancellation_policy', 'host_identity_verified', 'host_is_superhost',\n",
      "       'instant_bookable', 'is_business_travel_ready', 'property_type',\n",
      "       'room_type'],\n",
      "      dtype='object')\n"
     ]
    }
   ],
   "source": [
    "print(char_cols)\n",
    "#got all categorical variables names in single list"
   ]
  },
  {
   "cell_type": "code",
   "execution_count": 14,
   "metadata": {
    "collapsed": true
   },
   "outputs": [],
   "source": [
    "for c in char_cols:\n",
    "    data[c]= data[c].astype('category')\n",
    "# converting into categorical variables "
   ]
  },
  {
   "cell_type": "code",
   "execution_count": 19,
   "metadata": {},
   "outputs": [
    {
     "data": {
      "text/plain": [
       "Id                                int64\n",
       "accommodates                      int64\n",
       "bathrooms                       float64\n",
       "bedrooms                        float64\n",
       "beds                            float64\n",
       "cancellation_policy            category\n",
       "cleaning_fee                    float64\n",
       "extra_people                      int64\n",
       "host_identity_verified         category\n",
       "host_is_superhost              category\n",
       "host_total_listings_count       float64\n",
       "instant_bookable               category\n",
       "is_business_travel_ready       category\n",
       "latitude                        float64\n",
       "longitude                       float64\n",
       "maximum_nights                    int64\n",
       "minimum_nights                    int64\n",
       "number_of_reviews                 int64\n",
       "price                           float64\n",
       "property_type                  category\n",
       "review_scores_accuracy          float64\n",
       "review_scores_checkin           float64\n",
       "review_scores_cleanliness       float64\n",
       "review_scores_communication     float64\n",
       "review_scores_location          float64\n",
       "review_scores_rating            float64\n",
       "review_scores_value             float64\n",
       "reviews_per_month               float64\n",
       "room_type                      category\n",
       "security_deposit                float64\n",
       "dtype: object"
      ]
     },
     "execution_count": 19,
     "metadata": {},
     "output_type": "execute_result"
    }
   ],
   "source": [
    "data.dtypes\n",
    "#checking the conversion. "
   ]
  },
  {
   "cell_type": "code",
   "execution_count": 15,
   "metadata": {},
   "outputs": [
    {
     "data": {
      "text/plain": [
       "Id                                0\n",
       "accommodates                      0\n",
       "bathrooms                        11\n",
       "bedrooms                          5\n",
       "beds                             13\n",
       "cancellation_policy               0\n",
       "cleaning_fee                   2844\n",
       "extra_people                      0\n",
       "host_identity_verified           14\n",
       "host_is_superhost                14\n",
       "host_total_listings_count        14\n",
       "instant_bookable                  0\n",
       "is_business_travel_ready          0\n",
       "latitude                          0\n",
       "longitude                         0\n",
       "maximum_nights                    0\n",
       "minimum_nights                    0\n",
       "number_of_reviews                 0\n",
       "price                          7967\n",
       "property_type                     0\n",
       "review_scores_accuracy         2826\n",
       "review_scores_checkin          2838\n",
       "review_scores_cleanliness      2822\n",
       "review_scores_communication    2827\n",
       "review_scores_location         2838\n",
       "review_scores_rating           2806\n",
       "review_scores_value            2841\n",
       "reviews_per_month              2594\n",
       "room_type                         0\n",
       "security_deposit               3798\n",
       "dtype: int64"
      ]
     },
     "execution_count": 15,
     "metadata": {},
     "output_type": "execute_result"
    }
   ],
   "source": [
    "#data.isnull().any()\n",
    "data.isnull().sum()\n",
    "# checking missing values"
   ]
  },
  {
   "cell_type": "markdown",
   "metadata": {},
   "source": [
    "### interpretation of missing values\n",
    "All review scores related variables have missing values. Hence I would impute them. \n",
    "Security deposit is missing for many. \n",
    "Price is missing for 7967. \n",
    "\n",
    "There are multiple ways to impute \n",
    "   1. Impute with fixed value \n",
    "   2. Impute with mean/ median/ mode of column\n",
    "   3. KNN imputation\n",
    "   \n",
    "This code chose to impute with fixed value '0' "
   ]
  },
  {
   "cell_type": "code",
   "execution_count": 20,
   "metadata": {
    "collapsed": true
   },
   "outputs": [],
   "source": [
    "data.loc[:,['bathrooms','bedrooms','beds','cleaning_fee','host_total_listings_count','price','review_scores_accuracy','review_scores_checkin','review_scores_cleanliness','review_scores_communication','review_scores_location','review_scores_rating','review_scores_value','reviews_per_month','security_deposit']]= data.loc[:,['bathrooms','bedrooms','beds','cleaning_fee','host_total_listings_count','price','review_scores_accuracy','review_scores_checkin','review_scores_cleanliness','review_scores_communication','review_scores_location','review_scores_rating','review_scores_value','reviews_per_month','security_deposit']].fillna(0)"
   ]
  },
  {
   "cell_type": "code",
   "execution_count": 21,
   "metadata": {},
   "outputs": [
    {
     "data": {
      "text/plain": [
       "Id                             False\n",
       "accommodates                   False\n",
       "bathrooms                      False\n",
       "bedrooms                       False\n",
       "beds                           False\n",
       "cancellation_policy            False\n",
       "cleaning_fee                   False\n",
       "extra_people                   False\n",
       "host_identity_verified          True\n",
       "host_is_superhost               True\n",
       "host_total_listings_count      False\n",
       "instant_bookable               False\n",
       "is_business_travel_ready       False\n",
       "latitude                       False\n",
       "longitude                      False\n",
       "maximum_nights                 False\n",
       "minimum_nights                 False\n",
       "number_of_reviews              False\n",
       "price                          False\n",
       "property_type                  False\n",
       "review_scores_accuracy         False\n",
       "review_scores_checkin          False\n",
       "review_scores_cleanliness      False\n",
       "review_scores_communication    False\n",
       "review_scores_location         False\n",
       "review_scores_rating           False\n",
       "review_scores_value            False\n",
       "reviews_per_month              False\n",
       "room_type                      False\n",
       "security_deposit               False\n",
       "dtype: bool"
      ]
     },
     "execution_count": 21,
     "metadata": {},
     "output_type": "execute_result"
    }
   ],
   "source": [
    "data.isnull().any()\n",
    "#We used fill na and replaced missing values with 0. "
   ]
  },
  {
   "cell_type": "markdown",
   "metadata": {},
   "source": [
    "\"Host_identitity_verified\" and \"host_is_superhost\" are caetgorical variables. fillna() works doesn't work for them. \n",
    "Categorical imputation has to be with either a mode or median or a seperate category created, added and then imputed"
   ]
  },
  {
   "cell_type": "markdown",
   "metadata": {},
   "source": [
    "## Data Visualisation"
   ]
  },
  {
   "cell_type": "markdown",
   "metadata": {},
   "source": [
    "\"Price\" is the target variable. It is a regression problem. Hence we would be exploring the data with respect to price's point of view to see which attributes are correlated to price"
   ]
  },
  {
   "cell_type": "code",
   "execution_count": 22,
   "metadata": {
    "collapsed": true
   },
   "outputs": [],
   "source": [
    "data['price_bins'] = pd.cut(data.price , bins = [0,100,200,300,600] , labels= ['low','medium','high','very_high'])\n",
    "counts = data.price_bins.value_counts()\n",
    "# we are doing binning of prices. Because, once binned price is categorical variable and you can get relation with \n",
    "# other categories as well."
   ]
  },
  {
   "cell_type": "code",
   "execution_count": 24,
   "metadata": {},
   "outputs": [
    {
     "data": {
      "text/html": [
       "<div>\n",
       "<style>\n",
       "    .dataframe thead tr:only-child th {\n",
       "        text-align: right;\n",
       "    }\n",
       "\n",
       "    .dataframe thead th {\n",
       "        text-align: left;\n",
       "    }\n",
       "\n",
       "    .dataframe tbody tr th {\n",
       "        vertical-align: top;\n",
       "    }\n",
       "</style>\n",
       "<table border=\"1\" class=\"dataframe\">\n",
       "  <thead>\n",
       "    <tr style=\"text-align: right;\">\n",
       "      <th></th>\n",
       "      <th>Id</th>\n",
       "      <th>accommodates</th>\n",
       "      <th>bathrooms</th>\n",
       "      <th>bedrooms</th>\n",
       "      <th>beds</th>\n",
       "      <th>cancellation_policy</th>\n",
       "      <th>cleaning_fee</th>\n",
       "      <th>extra_people</th>\n",
       "      <th>host_identity_verified</th>\n",
       "      <th>host_is_superhost</th>\n",
       "      <th>...</th>\n",
       "      <th>review_scores_cleanliness</th>\n",
       "      <th>review_scores_communication</th>\n",
       "      <th>review_scores_location</th>\n",
       "      <th>review_scores_rating</th>\n",
       "      <th>review_scores_value</th>\n",
       "      <th>reviews_per_month</th>\n",
       "      <th>room_type</th>\n",
       "      <th>security_deposit</th>\n",
       "      <th>price_bins</th>\n",
       "      <th>accom_bins</th>\n",
       "    </tr>\n",
       "  </thead>\n",
       "  <tbody>\n",
       "    <tr>\n",
       "      <th>0</th>\n",
       "      <td>0</td>\n",
       "      <td>2</td>\n",
       "      <td>1.0</td>\n",
       "      <td>1.0</td>\n",
       "      <td>1.0</td>\n",
       "      <td>strict</td>\n",
       "      <td>330.0</td>\n",
       "      <td>0</td>\n",
       "      <td>t</td>\n",
       "      <td>f</td>\n",
       "      <td>...</td>\n",
       "      <td>10.0</td>\n",
       "      <td>10.0</td>\n",
       "      <td>10.0</td>\n",
       "      <td>100.0</td>\n",
       "      <td>10.0</td>\n",
       "      <td>0.53</td>\n",
       "      <td>Entire home/apt</td>\n",
       "      <td>500.0</td>\n",
       "      <td>medium</td>\n",
       "      <td>two</td>\n",
       "    </tr>\n",
       "    <tr>\n",
       "      <th>1</th>\n",
       "      <td>1</td>\n",
       "      <td>2</td>\n",
       "      <td>1.5</td>\n",
       "      <td>1.0</td>\n",
       "      <td>1.0</td>\n",
       "      <td>flexible</td>\n",
       "      <td>0.0</td>\n",
       "      <td>0</td>\n",
       "      <td>t</td>\n",
       "      <td>f</td>\n",
       "      <td>...</td>\n",
       "      <td>0.0</td>\n",
       "      <td>0.0</td>\n",
       "      <td>0.0</td>\n",
       "      <td>0.0</td>\n",
       "      <td>0.0</td>\n",
       "      <td>0.00</td>\n",
       "      <td>Private room</td>\n",
       "      <td>0.0</td>\n",
       "      <td>low</td>\n",
       "      <td>two</td>\n",
       "    </tr>\n",
       "    <tr>\n",
       "      <th>2</th>\n",
       "      <td>2</td>\n",
       "      <td>4</td>\n",
       "      <td>2.0</td>\n",
       "      <td>2.0</td>\n",
       "      <td>2.0</td>\n",
       "      <td>moderate</td>\n",
       "      <td>180.0</td>\n",
       "      <td>0</td>\n",
       "      <td>t</td>\n",
       "      <td>t</td>\n",
       "      <td>...</td>\n",
       "      <td>10.0</td>\n",
       "      <td>10.0</td>\n",
       "      <td>10.0</td>\n",
       "      <td>99.0</td>\n",
       "      <td>9.0</td>\n",
       "      <td>2.38</td>\n",
       "      <td>Entire home/apt</td>\n",
       "      <td>500.0</td>\n",
       "      <td>very_high</td>\n",
       "      <td>3&amp;4</td>\n",
       "    </tr>\n",
       "    <tr>\n",
       "      <th>3</th>\n",
       "      <td>3</td>\n",
       "      <td>6</td>\n",
       "      <td>1.5</td>\n",
       "      <td>3.0</td>\n",
       "      <td>4.0</td>\n",
       "      <td>flexible</td>\n",
       "      <td>80.0</td>\n",
       "      <td>0</td>\n",
       "      <td>f</td>\n",
       "      <td>f</td>\n",
       "      <td>...</td>\n",
       "      <td>10.0</td>\n",
       "      <td>10.0</td>\n",
       "      <td>10.0</td>\n",
       "      <td>100.0</td>\n",
       "      <td>10.0</td>\n",
       "      <td>1.96</td>\n",
       "      <td>Entire home/apt</td>\n",
       "      <td>0.0</td>\n",
       "      <td>medium</td>\n",
       "      <td>&gt;4</td>\n",
       "    </tr>\n",
       "    <tr>\n",
       "      <th>4</th>\n",
       "      <td>4</td>\n",
       "      <td>4</td>\n",
       "      <td>1.0</td>\n",
       "      <td>2.0</td>\n",
       "      <td>2.0</td>\n",
       "      <td>moderate</td>\n",
       "      <td>85.0</td>\n",
       "      <td>50</td>\n",
       "      <td>t</td>\n",
       "      <td>f</td>\n",
       "      <td>...</td>\n",
       "      <td>10.0</td>\n",
       "      <td>10.0</td>\n",
       "      <td>10.0</td>\n",
       "      <td>97.0</td>\n",
       "      <td>10.0</td>\n",
       "      <td>2.73</td>\n",
       "      <td>Entire home/apt</td>\n",
       "      <td>350.0</td>\n",
       "      <td>medium</td>\n",
       "      <td>3&amp;4</td>\n",
       "    </tr>\n",
       "  </tbody>\n",
       "</table>\n",
       "<p>5 rows × 32 columns</p>\n",
       "</div>"
      ],
      "text/plain": [
       "   Id  accommodates  bathrooms  bedrooms  beds cancellation_policy  \\\n",
       "0   0             2        1.0       1.0   1.0              strict   \n",
       "1   1             2        1.5       1.0   1.0            flexible   \n",
       "2   2             4        2.0       2.0   2.0            moderate   \n",
       "3   3             6        1.5       3.0   4.0            flexible   \n",
       "4   4             4        1.0       2.0   2.0            moderate   \n",
       "\n",
       "   cleaning_fee  extra_people host_identity_verified host_is_superhost  \\\n",
       "0         330.0             0                      t                 f   \n",
       "1           0.0             0                      t                 f   \n",
       "2         180.0             0                      t                 t   \n",
       "3          80.0             0                      f                 f   \n",
       "4          85.0            50                      t                 f   \n",
       "\n",
       "     ...      review_scores_cleanliness review_scores_communication  \\\n",
       "0    ...                           10.0                        10.0   \n",
       "1    ...                            0.0                         0.0   \n",
       "2    ...                           10.0                        10.0   \n",
       "3    ...                           10.0                        10.0   \n",
       "4    ...                           10.0                        10.0   \n",
       "\n",
       "  review_scores_location  review_scores_rating  review_scores_value  \\\n",
       "0                   10.0                 100.0                 10.0   \n",
       "1                    0.0                   0.0                  0.0   \n",
       "2                   10.0                  99.0                  9.0   \n",
       "3                   10.0                 100.0                 10.0   \n",
       "4                   10.0                  97.0                 10.0   \n",
       "\n",
       "   reviews_per_month        room_type  security_deposit  price_bins accom_bins  \n",
       "0               0.53  Entire home/apt             500.0      medium        two  \n",
       "1               0.00     Private room               0.0         low        two  \n",
       "2               2.38  Entire home/apt             500.0   very_high        3&4  \n",
       "3               1.96  Entire home/apt               0.0      medium         >4  \n",
       "4               2.73  Entire home/apt             350.0      medium        3&4  \n",
       "\n",
       "[5 rows x 32 columns]"
      ]
     },
     "execution_count": 24,
     "metadata": {},
     "output_type": "execute_result"
    }
   ],
   "source": [
    "#first let us check, \"accomodates\" variable which gives size of people in each property\n",
    "data['accom_bins'] = pd.cut(data.accommodates , bins = [0,1,2,4,600] , labels= ['one','two','3&4','>4'])\n",
    "#binning accomodation variable\n",
    "data.head()"
   ]
  },
  {
   "cell_type": "code",
   "execution_count": 26,
   "metadata": {},
   "outputs": [
    {
     "data": {
      "text/html": [
       "<div>\n",
       "<style>\n",
       "    .dataframe thead tr:only-child th {\n",
       "        text-align: right;\n",
       "    }\n",
       "\n",
       "    .dataframe thead th {\n",
       "        text-align: left;\n",
       "    }\n",
       "\n",
       "    .dataframe tbody tr th {\n",
       "        vertical-align: top;\n",
       "    }\n",
       "</style>\n",
       "<table border=\"1\" class=\"dataframe\">\n",
       "  <thead>\n",
       "    <tr style=\"text-align: right;\">\n",
       "      <th>price_bins</th>\n",
       "      <th>low</th>\n",
       "      <th>medium</th>\n",
       "      <th>high</th>\n",
       "      <th>very_high</th>\n",
       "      <th>All</th>\n",
       "    </tr>\n",
       "    <tr>\n",
       "      <th>accom_bins</th>\n",
       "      <th></th>\n",
       "      <th></th>\n",
       "      <th></th>\n",
       "      <th></th>\n",
       "      <th></th>\n",
       "    </tr>\n",
       "  </thead>\n",
       "  <tbody>\n",
       "    <tr>\n",
       "      <th>one</th>\n",
       "      <td>102</td>\n",
       "      <td>7</td>\n",
       "      <td>1</td>\n",
       "      <td>0</td>\n",
       "      <td>110</td>\n",
       "    </tr>\n",
       "    <tr>\n",
       "      <th>two</th>\n",
       "      <td>281</td>\n",
       "      <td>152</td>\n",
       "      <td>29</td>\n",
       "      <td>3</td>\n",
       "      <td>465</td>\n",
       "    </tr>\n",
       "    <tr>\n",
       "      <th>3&amp;4</th>\n",
       "      <td>41</td>\n",
       "      <td>158</td>\n",
       "      <td>57</td>\n",
       "      <td>21</td>\n",
       "      <td>277</td>\n",
       "    </tr>\n",
       "    <tr>\n",
       "      <th>&gt;4</th>\n",
       "      <td>11</td>\n",
       "      <td>33</td>\n",
       "      <td>61</td>\n",
       "      <td>43</td>\n",
       "      <td>148</td>\n",
       "    </tr>\n",
       "    <tr>\n",
       "      <th>All</th>\n",
       "      <td>435</td>\n",
       "      <td>350</td>\n",
       "      <td>148</td>\n",
       "      <td>67</td>\n",
       "      <td>1000</td>\n",
       "    </tr>\n",
       "  </tbody>\n",
       "</table>\n",
       "</div>"
      ],
      "text/plain": [
       "price_bins  low  medium  high  very_high   All\n",
       "accom_bins                                    \n",
       "one         102       7     1          0   110\n",
       "two         281     152    29          3   465\n",
       "3&4          41     158    57         21   277\n",
       ">4           11      33    61         43   148\n",
       "All         435     350   148         67  1000"
      ]
     },
     "execution_count": 26,
     "metadata": {},
     "output_type": "execute_result"
    }
   ],
   "source": [
    "accom = pd.crosstab(data.accom_bins,data.price_bins , margins= True)\n",
    "accom.head()\n",
    "# this gives how many properties are distributed in each of the varibles"
   ]
  },
  {
   "cell_type": "code",
   "execution_count": 28,
   "metadata": {
    "collapsed": true
   },
   "outputs": [],
   "source": [
    "accom.loc[:,'low':'very_high'] = accom.loc[:,'low':'very_high'].div(accom['All'],axis = 0)*100\n",
    "# we are getting % of hoses distributed across each bin"
   ]
  },
  {
   "cell_type": "code",
   "execution_count": 29,
   "metadata": {},
   "outputs": [
    {
     "data": {
      "text/html": [
       "<div>\n",
       "<style>\n",
       "    .dataframe thead tr:only-child th {\n",
       "        text-align: right;\n",
       "    }\n",
       "\n",
       "    .dataframe thead th {\n",
       "        text-align: left;\n",
       "    }\n",
       "\n",
       "    .dataframe tbody tr th {\n",
       "        vertical-align: top;\n",
       "    }\n",
       "</style>\n",
       "<table border=\"1\" class=\"dataframe\">\n",
       "  <thead>\n",
       "    <tr style=\"text-align: right;\">\n",
       "      <th>price_bins</th>\n",
       "      <th>low</th>\n",
       "      <th>medium</th>\n",
       "      <th>high</th>\n",
       "      <th>very_high</th>\n",
       "      <th>All</th>\n",
       "    </tr>\n",
       "    <tr>\n",
       "      <th>accom_bins</th>\n",
       "      <th></th>\n",
       "      <th></th>\n",
       "      <th></th>\n",
       "      <th></th>\n",
       "      <th></th>\n",
       "    </tr>\n",
       "  </thead>\n",
       "  <tbody>\n",
       "    <tr>\n",
       "      <th>one</th>\n",
       "      <td>92.727273</td>\n",
       "      <td>6.363636</td>\n",
       "      <td>0.909091</td>\n",
       "      <td>0.000000</td>\n",
       "      <td>110</td>\n",
       "    </tr>\n",
       "    <tr>\n",
       "      <th>two</th>\n",
       "      <td>60.430108</td>\n",
       "      <td>32.688172</td>\n",
       "      <td>6.236559</td>\n",
       "      <td>0.645161</td>\n",
       "      <td>465</td>\n",
       "    </tr>\n",
       "    <tr>\n",
       "      <th>3&amp;4</th>\n",
       "      <td>14.801444</td>\n",
       "      <td>57.039711</td>\n",
       "      <td>20.577617</td>\n",
       "      <td>7.581227</td>\n",
       "      <td>277</td>\n",
       "    </tr>\n",
       "    <tr>\n",
       "      <th>&gt;4</th>\n",
       "      <td>7.432432</td>\n",
       "      <td>22.297297</td>\n",
       "      <td>41.216216</td>\n",
       "      <td>29.054054</td>\n",
       "      <td>148</td>\n",
       "    </tr>\n",
       "    <tr>\n",
       "      <th>All</th>\n",
       "      <td>43.500000</td>\n",
       "      <td>35.000000</td>\n",
       "      <td>14.800000</td>\n",
       "      <td>6.700000</td>\n",
       "      <td>1000</td>\n",
       "    </tr>\n",
       "  </tbody>\n",
       "</table>\n",
       "</div>"
      ],
      "text/plain": [
       "price_bins        low     medium       high  very_high   All\n",
       "accom_bins                                                  \n",
       "one         92.727273   6.363636   0.909091   0.000000   110\n",
       "two         60.430108  32.688172   6.236559   0.645161   465\n",
       "3&4         14.801444  57.039711  20.577617   7.581227   277\n",
       ">4           7.432432  22.297297  41.216216  29.054054   148\n",
       "All         43.500000  35.000000  14.800000   6.700000  1000"
      ]
     },
     "execution_count": 29,
     "metadata": {},
     "output_type": "execute_result"
    }
   ],
   "source": [
    "accom.head()"
   ]
  },
  {
   "cell_type": "code",
   "execution_count": 30,
   "metadata": {
    "collapsed": true
   },
   "outputs": [],
   "source": [
    "del accom['All']"
   ]
  },
  {
   "cell_type": "code",
   "execution_count": 34,
   "metadata": {},
   "outputs": [
    {
     "data": {
      "image/png": "[encoded data removed]",
      "text/plain": [
       "<matplotlib.figure.Figure at 0x1c7ec695940>"
      ]
     },
     "metadata": {},
     "output_type": "display_data"
    }
   ],
   "source": [
    "\n",
    "\"\"\" Accom plotting\"\"\"\n",
    "#f, ax = plt.subplots(figsize=(14,8))\n",
    "accom.plot(kind='bar', stacked=True, figsize=(12, 8))\n",
    "plt.ylim(ymax = 130)\n",
    "plt.xticks(rotation=70 , fontsize= 16)\n",
    "plt.show()"
   ]
  },
  {
   "cell_type": "markdown",
   "metadata": {},
   "source": [
    "This gives us a lot of insights. Clearly, price and accomodation are dependent. A lot of low price properties accommodate only 1 person. Most of medium priced accomodates 3/4 persons. Althpough its evident from data, this visual proves the hypothesis. "
   ]
  },
  {
   "cell_type": "code",
   "execution_count": 43,
   "metadata": {},
   "outputs": [
    {
     "data": {
      "text/html": [
       "<div>\n",
       "<style>\n",
       "    .dataframe thead tr:only-child th {\n",
       "        text-align: right;\n",
       "    }\n",
       "\n",
       "    .dataframe thead th {\n",
       "        text-align: left;\n",
       "    }\n",
       "\n",
       "    .dataframe tbody tr th {\n",
       "        vertical-align: top;\n",
       "    }\n",
       "</style>\n",
       "<table border=\"1\" class=\"dataframe\">\n",
       "  <thead>\n",
       "    <tr style=\"text-align: right;\">\n",
       "      <th>price_bins</th>\n",
       "      <th>low</th>\n",
       "      <th>medium</th>\n",
       "      <th>high</th>\n",
       "      <th>very_high</th>\n",
       "    </tr>\n",
       "    <tr>\n",
       "      <th>cancellation_policy</th>\n",
       "      <th></th>\n",
       "      <th></th>\n",
       "      <th></th>\n",
       "      <th></th>\n",
       "    </tr>\n",
       "  </thead>\n",
       "  <tbody>\n",
       "    <tr>\n",
       "      <th>flexible</th>\n",
       "      <td>57.020057</td>\n",
       "      <td>30.372493</td>\n",
       "      <td>8.309456</td>\n",
       "      <td>4.297994</td>\n",
       "    </tr>\n",
       "    <tr>\n",
       "      <th>moderate</th>\n",
       "      <td>50.579151</td>\n",
       "      <td>29.729730</td>\n",
       "      <td>14.671815</td>\n",
       "      <td>5.019305</td>\n",
       "    </tr>\n",
       "    <tr>\n",
       "      <th>strict</th>\n",
       "      <td>26.785714</td>\n",
       "      <td>42.602041</td>\n",
       "      <td>20.663265</td>\n",
       "      <td>9.948980</td>\n",
       "    </tr>\n",
       "  </tbody>\n",
       "</table>\n",
       "</div>"
      ],
      "text/plain": [
       "price_bins                 low     medium       high  very_high\n",
       "cancellation_policy                                            \n",
       "flexible             57.020057  30.372493   8.309456   4.297994\n",
       "moderate             50.579151  29.729730  14.671815   5.019305\n",
       "strict               26.785714  42.602041  20.663265   9.948980"
      ]
     },
     "execution_count": 43,
     "metadata": {},
     "output_type": "execute_result"
    }
   ],
   "source": [
    "# similarly let's look at cancellation policy analysis as well\n",
    "canc = pd.crosstab(data.cancellation_policy,data.price_bins)\n",
    "su = canc.sum(axis = 1)\n",
    "canc = canc.loc[:,'low':'very_high'].div(su,axis = 0)*100\n",
    "canc"
   ]
  },
  {
   "cell_type": "code",
   "execution_count": 46,
   "metadata": {},
   "outputs": [
    {
     "data": {
      "image/png": "[encoded data removed]",
      "text/plain": [
       "<matplotlib.figure.Figure at 0x1c7ed15c710>"
      ]
     },
     "metadata": {},
     "output_type": "display_data"
    }
   ],
   "source": [
    "# plotting cancellation\n",
    "canc.plot(kind='bar', stacked=True, figsize=(12, 8))\n",
    "plt.ylim(ymax = 130)\n",
    "plt.xticks(rotation=70 , fontsize= 12)\n",
    "plt.savefig('canc.png')\n",
    "plt.show()"
   ]
  },
  {
   "cell_type": "markdown",
   "metadata": {},
   "source": [
    "High pricing and very high follow strict policy for cancelling and flexible pricing houses demand only low pricing. It is counter intuitive but for us, cancellation policy is a criteria for predicting."
   ]
  },
  {
   "cell_type": "code",
   "execution_count": 48,
   "metadata": {},
   "outputs": [
    {
     "data": {
      "text/html": [
       "<div>\n",
       "<style>\n",
       "    .dataframe thead tr:only-child th {\n",
       "        text-align: right;\n",
       "    }\n",
       "\n",
       "    .dataframe thead th {\n",
       "        text-align: left;\n",
       "    }\n",
       "\n",
       "    .dataframe tbody tr th {\n",
       "        vertical-align: top;\n",
       "    }\n",
       "</style>\n",
       "<table border=\"1\" class=\"dataframe\">\n",
       "  <thead>\n",
       "    <tr style=\"text-align: right;\">\n",
       "      <th>host_identity_verified</th>\n",
       "      <th>f</th>\n",
       "      <th>t</th>\n",
       "    </tr>\n",
       "    <tr>\n",
       "      <th>price_bins</th>\n",
       "      <th></th>\n",
       "      <th></th>\n",
       "    </tr>\n",
       "  </thead>\n",
       "  <tbody>\n",
       "    <tr>\n",
       "      <th>low</th>\n",
       "      <td>56.451613</td>\n",
       "      <td>43.548387</td>\n",
       "    </tr>\n",
       "    <tr>\n",
       "      <th>medium</th>\n",
       "      <td>47.851003</td>\n",
       "      <td>52.148997</td>\n",
       "    </tr>\n",
       "    <tr>\n",
       "      <th>high</th>\n",
       "      <td>45.270270</td>\n",
       "      <td>54.729730</td>\n",
       "    </tr>\n",
       "    <tr>\n",
       "      <th>very_high</th>\n",
       "      <td>44.776119</td>\n",
       "      <td>55.223881</td>\n",
       "    </tr>\n",
       "  </tbody>\n",
       "</table>\n",
       "</div>"
      ],
      "text/plain": [
       "host_identity_verified          f          t\n",
       "price_bins                                  \n",
       "low                     56.451613  43.548387\n",
       "medium                  47.851003  52.148997\n",
       "high                    45.270270  54.729730\n",
       "very_high               44.776119  55.223881"
      ]
     },
     "execution_count": 48,
     "metadata": {},
     "output_type": "execute_result"
    }
   ],
   "source": [
    "host_ver = pd.crosstab(data.host_identity_verified,data.price_bins)\n",
    "su =  host_ver.sum(axis = 0)\n",
    "host_ver = host_ver.loc[:,'low':'very_high'].div(su,axis = 1)*100\n",
    "host_ver = host_ver.T\n",
    "host_ver"
   ]
  },
  {
   "cell_type": "code",
   "execution_count": 50,
   "metadata": {},
   "outputs": [
    {
     "data": {
      "image/png": "[encoded data removed]",
      "text/plain": [
       "<matplotlib.figure.Figure at 0x1c7ed5e5f98>"
      ]
     },
     "metadata": {},
     "output_type": "display_data"
    }
   ],
   "source": [
    "host_ver.plot(kind='bar', stacked=True, figsize=(12, 8))\n",
    "plt.ylim(ymax = 150)\n",
    "plt.xticks(rotation=70 , fontsize= 12)\n",
    "\n",
    "plt.show()\n"
   ]
  },
  {
   "cell_type": "markdown",
   "metadata": {},
   "source": [
    "Host verified is not a significant criteria. Though it is verifying according to price bins. Variation isnt significant"
   ]
  },
  {
   "cell_type": "code",
   "execution_count": 51,
   "metadata": {},
   "outputs": [
    {
     "data": {
      "text/html": [
       "<div>\n",
       "<style>\n",
       "    .dataframe thead tr:only-child th {\n",
       "        text-align: right;\n",
       "    }\n",
       "\n",
       "    .dataframe thead th {\n",
       "        text-align: left;\n",
       "    }\n",
       "\n",
       "    .dataframe tbody tr th {\n",
       "        vertical-align: top;\n",
       "    }\n",
       "</style>\n",
       "<table border=\"1\" class=\"dataframe\">\n",
       "  <thead>\n",
       "    <tr style=\"text-align: right;\">\n",
       "      <th>is_business_travel_ready</th>\n",
       "      <th>f</th>\n",
       "      <th>t</th>\n",
       "    </tr>\n",
       "    <tr>\n",
       "      <th>price_bins</th>\n",
       "      <th></th>\n",
       "      <th></th>\n",
       "    </tr>\n",
       "  </thead>\n",
       "  <tbody>\n",
       "    <tr>\n",
       "      <th>low</th>\n",
       "      <td>99.310345</td>\n",
       "      <td>0.689655</td>\n",
       "    </tr>\n",
       "    <tr>\n",
       "      <th>medium</th>\n",
       "      <td>96.285714</td>\n",
       "      <td>3.714286</td>\n",
       "    </tr>\n",
       "    <tr>\n",
       "      <th>high</th>\n",
       "      <td>95.945946</td>\n",
       "      <td>4.054054</td>\n",
       "    </tr>\n",
       "    <tr>\n",
       "      <th>very_high</th>\n",
       "      <td>97.014925</td>\n",
       "      <td>2.985075</td>\n",
       "    </tr>\n",
       "  </tbody>\n",
       "</table>\n",
       "</div>"
      ],
      "text/plain": [
       "is_business_travel_ready          f         t\n",
       "price_bins                                   \n",
       "low                       99.310345  0.689655\n",
       "medium                    96.285714  3.714286\n",
       "high                      95.945946  4.054054\n",
       "very_high                 97.014925  2.985075"
      ]
     },
     "execution_count": 51,
     "metadata": {},
     "output_type": "execute_result"
    }
   ],
   "source": [
    "\"\"\"Business travel ready %\"\"\"\n",
    "\n",
    "b_trav = pd.crosstab(data.is_business_travel_ready,data.price_bins)\n",
    "su = b_trav.sum(axis = 0)\n",
    "b_trav = b_trav.loc[:,'low':'very_high'].div(su,axis = 1)*100\n",
    "b_trav = b_trav.T\n",
    "b_trav"
   ]
  },
  {
   "cell_type": "code",
   "execution_count": 52,
   "metadata": {},
   "outputs": [
    {
     "data": {
      "image/png": "[encoded data removed]",
      "text/plain": [
       "<matplotlib.figure.Figure at 0x1c7ed5c0c88>"
      ]
     },
     "metadata": {},
     "output_type": "display_data"
    }
   ],
   "source": [
    "b_trav.plot(kind='bar', stacked=True, figsize=(12, 8))\n",
    "plt.ylim(ymax = 150)\n",
    "plt.xticks(rotation=70 , fontsize= 12)\n",
    "plt.savefig('b_travel.png')\n",
    "plt.show()"
   ]
  },
  {
   "cell_type": "markdown",
   "metadata": {},
   "source": [
    "Again, variation is very less. But we can notice, medium and high prices are most business ready and buiness poeple don't prefer low price."
   ]
  },
  {
   "cell_type": "code",
   "execution_count": 53,
   "metadata": {
    "collapsed": true
   },
   "outputs": [],
   "source": [
    "# We are also looking min nights policy. Min nights is numeric and price bins is categorical.\n",
    "# We cannot compare them for relation. Lets bin min nights to get fair understanding"
   ]
  },
  {
   "cell_type": "code",
   "execution_count": 80,
   "metadata": {
    "collapsed": true
   },
   "outputs": [],
   "source": [
    "data['min_night_bins'] = pd.cut(data.minimum_nights , bins = [0,1,2,3,4,5,10,600] , labels= ['1','2','3','4','5','6-10','greater 10'])"
   ]
  },
  {
   "cell_type": "code",
   "execution_count": 55,
   "metadata": {},
   "outputs": [
    {
     "data": {
      "text/html": [
       "<div>\n",
       "<style>\n",
       "    .dataframe thead tr:only-child th {\n",
       "        text-align: right;\n",
       "    }\n",
       "\n",
       "    .dataframe thead th {\n",
       "        text-align: left;\n",
       "    }\n",
       "\n",
       "    .dataframe tbody tr th {\n",
       "        vertical-align: top;\n",
       "    }\n",
       "</style>\n",
       "<table border=\"1\" class=\"dataframe\">\n",
       "  <thead>\n",
       "    <tr style=\"text-align: right;\">\n",
       "      <th></th>\n",
       "      <th>Id</th>\n",
       "      <th>accommodates</th>\n",
       "      <th>bathrooms</th>\n",
       "      <th>bedrooms</th>\n",
       "      <th>beds</th>\n",
       "      <th>cancellation_policy</th>\n",
       "      <th>cleaning_fee</th>\n",
       "      <th>extra_people</th>\n",
       "      <th>host_identity_verified</th>\n",
       "      <th>host_is_superhost</th>\n",
       "      <th>...</th>\n",
       "      <th>review_scores_communication</th>\n",
       "      <th>review_scores_location</th>\n",
       "      <th>review_scores_rating</th>\n",
       "      <th>review_scores_value</th>\n",
       "      <th>reviews_per_month</th>\n",
       "      <th>room_type</th>\n",
       "      <th>security_deposit</th>\n",
       "      <th>price_bins</th>\n",
       "      <th>accom_bins</th>\n",
       "      <th>min_night_bins</th>\n",
       "    </tr>\n",
       "  </thead>\n",
       "  <tbody>\n",
       "    <tr>\n",
       "      <th>0</th>\n",
       "      <td>0</td>\n",
       "      <td>2</td>\n",
       "      <td>1.0</td>\n",
       "      <td>1.0</td>\n",
       "      <td>1.0</td>\n",
       "      <td>strict</td>\n",
       "      <td>330.0</td>\n",
       "      <td>0</td>\n",
       "      <td>t</td>\n",
       "      <td>f</td>\n",
       "      <td>...</td>\n",
       "      <td>10.0</td>\n",
       "      <td>10.0</td>\n",
       "      <td>100.0</td>\n",
       "      <td>10.0</td>\n",
       "      <td>0.53</td>\n",
       "      <td>Entire home/apt</td>\n",
       "      <td>500.0</td>\n",
       "      <td>medium</td>\n",
       "      <td>two</td>\n",
       "      <td>6-10</td>\n",
       "    </tr>\n",
       "    <tr>\n",
       "      <th>1</th>\n",
       "      <td>1</td>\n",
       "      <td>2</td>\n",
       "      <td>1.5</td>\n",
       "      <td>1.0</td>\n",
       "      <td>1.0</td>\n",
       "      <td>flexible</td>\n",
       "      <td>0.0</td>\n",
       "      <td>0</td>\n",
       "      <td>t</td>\n",
       "      <td>f</td>\n",
       "      <td>...</td>\n",
       "      <td>0.0</td>\n",
       "      <td>0.0</td>\n",
       "      <td>0.0</td>\n",
       "      <td>0.0</td>\n",
       "      <td>0.00</td>\n",
       "      <td>Private room</td>\n",
       "      <td>0.0</td>\n",
       "      <td>low</td>\n",
       "      <td>two</td>\n",
       "      <td>&gt;10</td>\n",
       "    </tr>\n",
       "    <tr>\n",
       "      <th>2</th>\n",
       "      <td>2</td>\n",
       "      <td>4</td>\n",
       "      <td>2.0</td>\n",
       "      <td>2.0</td>\n",
       "      <td>2.0</td>\n",
       "      <td>moderate</td>\n",
       "      <td>180.0</td>\n",
       "      <td>0</td>\n",
       "      <td>t</td>\n",
       "      <td>t</td>\n",
       "      <td>...</td>\n",
       "      <td>10.0</td>\n",
       "      <td>10.0</td>\n",
       "      <td>99.0</td>\n",
       "      <td>9.0</td>\n",
       "      <td>2.38</td>\n",
       "      <td>Entire home/apt</td>\n",
       "      <td>500.0</td>\n",
       "      <td>very_high</td>\n",
       "      <td>3&amp;4</td>\n",
       "      <td>3</td>\n",
       "    </tr>\n",
       "    <tr>\n",
       "      <th>3</th>\n",
       "      <td>3</td>\n",
       "      <td>6</td>\n",
       "      <td>1.5</td>\n",
       "      <td>3.0</td>\n",
       "      <td>4.0</td>\n",
       "      <td>flexible</td>\n",
       "      <td>80.0</td>\n",
       "      <td>0</td>\n",
       "      <td>f</td>\n",
       "      <td>f</td>\n",
       "      <td>...</td>\n",
       "      <td>10.0</td>\n",
       "      <td>10.0</td>\n",
       "      <td>100.0</td>\n",
       "      <td>10.0</td>\n",
       "      <td>1.96</td>\n",
       "      <td>Entire home/apt</td>\n",
       "      <td>0.0</td>\n",
       "      <td>medium</td>\n",
       "      <td>&gt;4</td>\n",
       "      <td>4</td>\n",
       "    </tr>\n",
       "    <tr>\n",
       "      <th>4</th>\n",
       "      <td>4</td>\n",
       "      <td>4</td>\n",
       "      <td>1.0</td>\n",
       "      <td>2.0</td>\n",
       "      <td>2.0</td>\n",
       "      <td>moderate</td>\n",
       "      <td>85.0</td>\n",
       "      <td>50</td>\n",
       "      <td>t</td>\n",
       "      <td>f</td>\n",
       "      <td>...</td>\n",
       "      <td>10.0</td>\n",
       "      <td>10.0</td>\n",
       "      <td>97.0</td>\n",
       "      <td>10.0</td>\n",
       "      <td>2.73</td>\n",
       "      <td>Entire home/apt</td>\n",
       "      <td>350.0</td>\n",
       "      <td>medium</td>\n",
       "      <td>3&amp;4</td>\n",
       "      <td>2</td>\n",
       "    </tr>\n",
       "  </tbody>\n",
       "</table>\n",
       "<p>5 rows × 33 columns</p>\n",
       "</div>"
      ],
      "text/plain": [
       "   Id  accommodates  bathrooms  bedrooms  beds cancellation_policy  \\\n",
       "0   0             2        1.0       1.0   1.0              strict   \n",
       "1   1             2        1.5       1.0   1.0            flexible   \n",
       "2   2             4        2.0       2.0   2.0            moderate   \n",
       "3   3             6        1.5       3.0   4.0            flexible   \n",
       "4   4             4        1.0       2.0   2.0            moderate   \n",
       "\n",
       "   cleaning_fee  extra_people host_identity_verified host_is_superhost  \\\n",
       "0         330.0             0                      t                 f   \n",
       "1           0.0             0                      t                 f   \n",
       "2         180.0             0                      t                 t   \n",
       "3          80.0             0                      f                 f   \n",
       "4          85.0            50                      t                 f   \n",
       "\n",
       "       ...        review_scores_communication review_scores_location  \\\n",
       "0      ...                               10.0                   10.0   \n",
       "1      ...                                0.0                    0.0   \n",
       "2      ...                               10.0                   10.0   \n",
       "3      ...                               10.0                   10.0   \n",
       "4      ...                               10.0                   10.0   \n",
       "\n",
       "  review_scores_rating  review_scores_value  reviews_per_month  \\\n",
       "0                100.0                 10.0               0.53   \n",
       "1                  0.0                  0.0               0.00   \n",
       "2                 99.0                  9.0               2.38   \n",
       "3                100.0                 10.0               1.96   \n",
       "4                 97.0                 10.0               2.73   \n",
       "\n",
       "         room_type  security_deposit  price_bins  accom_bins min_night_bins  \n",
       "0  Entire home/apt             500.0      medium         two           6-10  \n",
       "1     Private room               0.0         low         two            >10  \n",
       "2  Entire home/apt             500.0   very_high         3&4              3  \n",
       "3  Entire home/apt               0.0      medium          >4              4  \n",
       "4  Entire home/apt             350.0      medium         3&4              2  \n",
       "\n",
       "[5 rows x 33 columns]"
      ]
     },
     "execution_count": 55,
     "metadata": {},
     "output_type": "execute_result"
    }
   ],
   "source": [
    "data.head()\n",
    "#look last column"
   ]
  },
  {
   "cell_type": "code",
   "execution_count": 56,
   "metadata": {},
   "outputs": [
    {
     "name": "stdout",
     "output_type": "stream",
     "text": [
      "price_bins            low     medium       high  very_high\n",
      "min_night_bins                                            \n",
      "1               39.540230  21.428571  16.891892   7.462687\n",
      "2               24.137931  29.714286  29.729730  23.880597\n",
      "3               10.574713  18.571429  12.162162  26.865672\n",
      "4                5.517241   5.714286   9.459459   8.955224\n",
      "5                5.977011   8.571429  16.891892  16.417910\n",
      "6-10             8.275862  12.857143  11.486486  11.940299\n",
      ">10              5.977011   3.142857   3.378378   4.477612\n"
     ]
    }
   ],
   "source": [
    "min_nig =  pd.crosstab(data.min_night_bins,data.price_bins)\n",
    "min_nig_sum= min_nig.sum(axis = 0)\n",
    "min_nig = min_nig.loc[:,'low':'very_high'].div(min_nig_sum,axis = 1)*100\n",
    "print (min_nig)"
   ]
  },
  {
   "cell_type": "code",
   "execution_count": 59,
   "metadata": {},
   "outputs": [
    {
     "data": {
      "image/png": "[encoded data removed]",
      "text/plain": [
       "<matplotlib.figure.Figure at 0x1c7ed577b38>"
      ]
     },
     "metadata": {},
     "output_type": "display_data"
    }
   ],
   "source": [
    "min_nig = min_nig.T\n",
    "#f, ax = plt.subplots(figsize=(14,8))\n",
    "min_nig.plot(kind='bar', stacked=True, figsize=(12, 8))\n",
    "plt.ylim(ymax = 150)\n",
    "plt.xticks(rotation=70 , fontsize= 12)\n",
    "plt.savefig('min_nig.png')\n",
    "plt.show()"
   ]
  },
  {
   "cell_type": "markdown",
   "metadata": {},
   "source": [
    "as the property price goes up, min nights is increases. Since good properties always look for long staying people. ence its a predictor"
   ]
  },
  {
   "cell_type": "code",
   "execution_count": 61,
   "metadata": {
    "collapsed": true
   },
   "outputs": [],
   "source": [
    "# Host listings is a indicator of brand. Airbnb hosts people who hosts multiple properties \n",
    "#which means they are serious business people. And other who have 1-2 are small players. Host having more listings\n",
    "# increases credibiltiy\n",
    "data['host_bins'] = pd.cut(data.host_total_listings_count , bins = [0,1,2,3,10,50,600] , labels= ['1','2','3','3-10','10-50','50-600'])\n",
    "host =  pd.crosstab(data.host_bins,data.price_bins)\n",
    "host_sum= host.sum(axis = 0)\n",
    "host = host.loc[:,'low':'very_high'].div(host_sum,axis = 1)*100\n",
    "host = host.T\n"
   ]
  },
  {
   "cell_type": "code",
   "execution_count": 63,
   "metadata": {},
   "outputs": [
    {
     "data": {
      "image/png": "[encoded data removed]",
      "text/plain": [
       "<matplotlib.figure.Figure at 0x1c7eccdf208>"
      ]
     },
     "metadata": {},
     "output_type": "display_data"
    }
   ],
   "source": [
    "\n",
    "#f, ax = plt.subplots(figsize=(14,8))\n",
    "host.plot(kind='bar', stacked=True, figsize=(12, 8))\n",
    "plt.ylim(ymax = 140)\n",
    "plt.xticks(rotation=70 , fontsize= 12)\n",
    "plt.savefig('host_listings_count.png')\n",
    "plt.show()"
   ]
  },
  {
   "cell_type": "markdown",
   "metadata": {},
   "source": [
    "There is no much variation among people who hosted 1 house. But hosts with high listings definitely demand high price Hence it is a predictor"
   ]
  },
  {
   "cell_type": "markdown",
   "metadata": {},
   "source": [
    "### The property price is always dependent on how close it is to city tourist attractions. We have lat, long of properties. Hence we would like to measure distance from cities top 3 visited attractions cooge, manly and parra. This is accomplished by geopy package which when passed with lats and long of two places returns the distance. \n",
    "\n",
    "### For each property, we calculate average distance from three places in city and see if it can be a predictor. It is a generated feature"
   ]
  },
  {
   "cell_type": "code",
   "execution_count": 68,
   "metadata": {
    "collapsed": true
   },
   "outputs": [],
   "source": [
    "cooge = (-33.9190,151.2555)\n",
    "# Manly beach\n",
    "manly = (-33.7932,151.2876)\n",
    "parra = (-33.8150,151.0011)\n"
   ]
  },
  {
   "cell_type": "code",
   "execution_count": 67,
   "metadata": {
    "collapsed": true
   },
   "outputs": [],
   "source": [
    "# function to cal dist. It takes each row, and calculates distance from 3 places and returns average. \n",
    "def dist(row):\n",
    "    d1 = great_circle(cooge,(row['latitude'],row['longitude'])).kilometers\n",
    "    d2 = great_circle(manly,(row['latitude'],row['longitude'])).kilometers\n",
    "    d3 = great_circle(parra, (row['latitude'], row['longitude'])).kilometers\n",
    "    return np.mean([d1,d2,d3])"
   ]
  },
  {
   "cell_type": "code",
   "execution_count": 69,
   "metadata": {
    "collapsed": true
   },
   "outputs": [],
   "source": [
    "data['avg_dist'] = data.apply(lambda x : dist(x),axis = 1)"
   ]
  },
  {
   "cell_type": "code",
   "execution_count": 70,
   "metadata": {},
   "outputs": [
    {
     "data": {
      "text/html": [
       "<div>\n",
       "<style>\n",
       "    .dataframe thead tr:only-child th {\n",
       "        text-align: right;\n",
       "    }\n",
       "\n",
       "    .dataframe thead th {\n",
       "        text-align: left;\n",
       "    }\n",
       "\n",
       "    .dataframe tbody tr th {\n",
       "        vertical-align: top;\n",
       "    }\n",
       "</style>\n",
       "<table border=\"1\" class=\"dataframe\">\n",
       "  <thead>\n",
       "    <tr style=\"text-align: right;\">\n",
       "      <th></th>\n",
       "      <th>Id</th>\n",
       "      <th>accommodates</th>\n",
       "      <th>bathrooms</th>\n",
       "      <th>bedrooms</th>\n",
       "      <th>beds</th>\n",
       "      <th>cancellation_policy</th>\n",
       "      <th>cleaning_fee</th>\n",
       "      <th>extra_people</th>\n",
       "      <th>host_identity_verified</th>\n",
       "      <th>host_is_superhost</th>\n",
       "      <th>...</th>\n",
       "      <th>review_scores_rating</th>\n",
       "      <th>review_scores_value</th>\n",
       "      <th>reviews_per_month</th>\n",
       "      <th>room_type</th>\n",
       "      <th>security_deposit</th>\n",
       "      <th>price_bins</th>\n",
       "      <th>accom_bins</th>\n",
       "      <th>min_night_bins</th>\n",
       "      <th>host_bins</th>\n",
       "      <th>avg_dist</th>\n",
       "    </tr>\n",
       "  </thead>\n",
       "  <tbody>\n",
       "    <tr>\n",
       "      <th>0</th>\n",
       "      <td>0</td>\n",
       "      <td>2</td>\n",
       "      <td>1.0</td>\n",
       "      <td>1.0</td>\n",
       "      <td>1.0</td>\n",
       "      <td>strict</td>\n",
       "      <td>330.0</td>\n",
       "      <td>0</td>\n",
       "      <td>t</td>\n",
       "      <td>f</td>\n",
       "      <td>...</td>\n",
       "      <td>100.0</td>\n",
       "      <td>10.0</td>\n",
       "      <td>0.53</td>\n",
       "      <td>Entire home/apt</td>\n",
       "      <td>500.0</td>\n",
       "      <td>medium</td>\n",
       "      <td>two</td>\n",
       "      <td>6-10</td>\n",
       "      <td>10-50</td>\n",
       "      <td>12.708850</td>\n",
       "    </tr>\n",
       "    <tr>\n",
       "      <th>1</th>\n",
       "      <td>1</td>\n",
       "      <td>2</td>\n",
       "      <td>1.5</td>\n",
       "      <td>1.0</td>\n",
       "      <td>1.0</td>\n",
       "      <td>flexible</td>\n",
       "      <td>0.0</td>\n",
       "      <td>0</td>\n",
       "      <td>t</td>\n",
       "      <td>f</td>\n",
       "      <td>...</td>\n",
       "      <td>0.0</td>\n",
       "      <td>0.0</td>\n",
       "      <td>0.00</td>\n",
       "      <td>Private room</td>\n",
       "      <td>0.0</td>\n",
       "      <td>low</td>\n",
       "      <td>two</td>\n",
       "      <td>&gt;10</td>\n",
       "      <td>1</td>\n",
       "      <td>13.932346</td>\n",
       "    </tr>\n",
       "    <tr>\n",
       "      <th>2</th>\n",
       "      <td>2</td>\n",
       "      <td>4</td>\n",
       "      <td>2.0</td>\n",
       "      <td>2.0</td>\n",
       "      <td>2.0</td>\n",
       "      <td>moderate</td>\n",
       "      <td>180.0</td>\n",
       "      <td>0</td>\n",
       "      <td>t</td>\n",
       "      <td>t</td>\n",
       "      <td>...</td>\n",
       "      <td>99.0</td>\n",
       "      <td>9.0</td>\n",
       "      <td>2.38</td>\n",
       "      <td>Entire home/apt</td>\n",
       "      <td>500.0</td>\n",
       "      <td>very_high</td>\n",
       "      <td>3&amp;4</td>\n",
       "      <td>3</td>\n",
       "      <td>1</td>\n",
       "      <td>12.777085</td>\n",
       "    </tr>\n",
       "    <tr>\n",
       "      <th>3</th>\n",
       "      <td>3</td>\n",
       "      <td>6</td>\n",
       "      <td>1.5</td>\n",
       "      <td>3.0</td>\n",
       "      <td>4.0</td>\n",
       "      <td>flexible</td>\n",
       "      <td>80.0</td>\n",
       "      <td>0</td>\n",
       "      <td>f</td>\n",
       "      <td>f</td>\n",
       "      <td>...</td>\n",
       "      <td>100.0</td>\n",
       "      <td>10.0</td>\n",
       "      <td>1.96</td>\n",
       "      <td>Entire home/apt</td>\n",
       "      <td>0.0</td>\n",
       "      <td>medium</td>\n",
       "      <td>&gt;4</td>\n",
       "      <td>4</td>\n",
       "      <td>1</td>\n",
       "      <td>13.678804</td>\n",
       "    </tr>\n",
       "    <tr>\n",
       "      <th>4</th>\n",
       "      <td>4</td>\n",
       "      <td>4</td>\n",
       "      <td>1.0</td>\n",
       "      <td>2.0</td>\n",
       "      <td>2.0</td>\n",
       "      <td>moderate</td>\n",
       "      <td>85.0</td>\n",
       "      <td>50</td>\n",
       "      <td>t</td>\n",
       "      <td>f</td>\n",
       "      <td>...</td>\n",
       "      <td>97.0</td>\n",
       "      <td>10.0</td>\n",
       "      <td>2.73</td>\n",
       "      <td>Entire home/apt</td>\n",
       "      <td>350.0</td>\n",
       "      <td>medium</td>\n",
       "      <td>3&amp;4</td>\n",
       "      <td>2</td>\n",
       "      <td>3-10</td>\n",
       "      <td>14.244064</td>\n",
       "    </tr>\n",
       "  </tbody>\n",
       "</table>\n",
       "<p>5 rows × 35 columns</p>\n",
       "</div>"
      ],
      "text/plain": [
       "   Id  accommodates  bathrooms  bedrooms  beds cancellation_policy  \\\n",
       "0   0             2        1.0       1.0   1.0              strict   \n",
       "1   1             2        1.5       1.0   1.0            flexible   \n",
       "2   2             4        2.0       2.0   2.0            moderate   \n",
       "3   3             6        1.5       3.0   4.0            flexible   \n",
       "4   4             4        1.0       2.0   2.0            moderate   \n",
       "\n",
       "   cleaning_fee  extra_people host_identity_verified host_is_superhost  \\\n",
       "0         330.0             0                      t                 f   \n",
       "1           0.0             0                      t                 f   \n",
       "2         180.0             0                      t                 t   \n",
       "3          80.0             0                      f                 f   \n",
       "4          85.0            50                      t                 f   \n",
       "\n",
       "     ...      review_scores_rating review_scores_value reviews_per_month  \\\n",
       "0    ...                     100.0                10.0              0.53   \n",
       "1    ...                       0.0                 0.0              0.00   \n",
       "2    ...                      99.0                 9.0              2.38   \n",
       "3    ...                     100.0                10.0              1.96   \n",
       "4    ...                      97.0                10.0              2.73   \n",
       "\n",
       "         room_type  security_deposit  price_bins  accom_bins  min_night_bins  \\\n",
       "0  Entire home/apt             500.0      medium         two            6-10   \n",
       "1     Private room               0.0         low         two             >10   \n",
       "2  Entire home/apt             500.0   very_high         3&4               3   \n",
       "3  Entire home/apt               0.0      medium          >4               4   \n",
       "4  Entire home/apt             350.0      medium         3&4               2   \n",
       "\n",
       "   host_bins   avg_dist  \n",
       "0      10-50  12.708850  \n",
       "1          1  13.932346  \n",
       "2          1  12.777085  \n",
       "3          1  13.678804  \n",
       "4       3-10  14.244064  \n",
       "\n",
       "[5 rows x 35 columns]"
      ]
     },
     "execution_count": 70,
     "metadata": {},
     "output_type": "execute_result"
    }
   ],
   "source": [
    "data.head()\n",
    "# see last column"
   ]
  },
  {
   "cell_type": "code",
   "execution_count": 71,
   "metadata": {
    "collapsed": true
   },
   "outputs": [],
   "source": [
    "# repeat above steps for diatnce dependence on price\n",
    "data['avg_dist_bins'] = pd.cut(data.avg_dist, bins= [12.55,13.077,13.58,14.82,53.88])\n",
    "di_ana = pd.crosstab(data.avg_dist_bins,data.price_bins)\n",
    "dis_su= di_ana.sum(axis = 0)\n",
    "di_ana = di_ana.loc[:,'low':'very_high'].div(dis_su,axis = 1)*100"
   ]
  },
  {
   "cell_type": "code",
   "execution_count": 72,
   "metadata": {},
   "outputs": [
    {
     "data": {
      "image/png": "[encoded data removed]",
      "text/plain": [
       "<matplotlib.figure.Figure at 0x1c7ec86ce10>"
      ]
     },
     "metadata": {},
     "output_type": "display_data"
    }
   ],
   "source": [
    "di_ana = di_ana.T\n",
    "#f, ax = plt.subplots(figsize=(14,8))\n",
    "di_ana.plot(kind='bar', stacked=True, figsize=(12, 8))\n",
    "plt.ylim(ymax = 150)\n",
    "plt.xticks(rotation=70 , fontsize= 12)\n",
    "plt.show()"
   ]
  },
  {
   "cell_type": "markdown",
   "metadata": {},
   "source": [
    "You can clearly note that low price bins properties are far away from cities and lesser avg distance means higher pricing"
   ]
  },
  {
   "cell_type": "markdown",
   "metadata": {},
   "source": [
    "# Modeling"
   ]
  },
  {
   "cell_type": "code",
   "execution_count": 74,
   "metadata": {
    "collapsed": true
   },
   "outputs": [],
   "source": [
    "data.host_is_superhost = data.host_is_superhost.cat.add_categories(['Missing'])\n",
    "data.host_is_superhost.fillna(value ='Missing' , inplace= True)\n",
    "\n",
    "data.host_identity_verified = data.host_identity_verified.cat.add_categories(['Missing'])\n",
    "data.host_identity_verified.fillna('Missing' , inplace= True)\n",
    "\n",
    "#imputing categiorical variable"
   ]
  },
  {
   "cell_type": "code",
   "execution_count": 84,
   "metadata": {
    "collapsed": true
   },
   "outputs": [],
   "source": [
    "cat_var = ['cancellation_policy','host_identity_verified','host_is_superhost','instant_bookable','is_business_travel_ready','property_type','room_type','min_night_bins','accom_bins']\n",
    "\n",
    "num_var = ['bathrooms','bedrooms','beds','cleaning_fee','extra_people','host_total_listings_count','minimum_nights','number_of_reviews','reviews_per_month','security_deposit','review_scores_value','review_scores_accuracy']\n",
    "\n",
    "#seperating numeric and categorical varibles"
   ]
  },
  {
   "cell_type": "code",
   "execution_count": 85,
   "metadata": {
    "collapsed": true
   },
   "outputs": [],
   "source": [
    "\"\"\" label encoding / dummies \"\"\"\n",
    "le = LabelEncoder()\n",
    "data.loc[:,cat_var] = data.loc[:,cat_var].apply(lambda x : le.fit_transform(x), axis = 0 )\n",
    "enc = OneHotEncoder(sparse= False)\n",
    "encode = pd.DataFrame(enc.fit_transform(data.loc[:,cat_var]))\n",
    "\n",
    "#label encoding for categorical"
   ]
  },
  {
   "cell_type": "code",
   "execution_count": 86,
   "metadata": {
    "collapsed": true
   },
   "outputs": [],
   "source": [
    "cat_features = []\n",
    "for i, name in enumerate(cat_var):\n",
    "    l = len(np.unique(data[name]))\n",
    "    for k in range(l):\n",
    "        f_nm = str(name) + '@' + str(k + 1)\n",
    "        cat_features.append(f_nm)\n",
    "all_features = cat_features + num_var\n",
    "\n",
    "#getting index of all variables at one place for ffeature importances calculation"
   ]
  },
  {
   "cell_type": "code",
   "execution_count": 82,
   "metadata": {},
   "outputs": [
    {
     "data": {
      "text/html": [
       "<div>\n",
       "<style>\n",
       "    .dataframe thead tr:only-child th {\n",
       "        text-align: right;\n",
       "    }\n",
       "\n",
       "    .dataframe thead th {\n",
       "        text-align: left;\n",
       "    }\n",
       "\n",
       "    .dataframe tbody tr th {\n",
       "        vertical-align: top;\n",
       "    }\n",
       "</style>\n",
       "<table border=\"1\" class=\"dataframe\">\n",
       "  <thead>\n",
       "    <tr style=\"text-align: right;\">\n",
       "      <th></th>\n",
       "      <th>Id</th>\n",
       "      <th>accommodates</th>\n",
       "      <th>bathrooms</th>\n",
       "      <th>bedrooms</th>\n",
       "      <th>beds</th>\n",
       "      <th>cancellation_policy</th>\n",
       "      <th>cleaning_fee</th>\n",
       "      <th>extra_people</th>\n",
       "      <th>host_identity_verified</th>\n",
       "      <th>host_is_superhost</th>\n",
       "      <th>...</th>\n",
       "      <th>review_scores_value</th>\n",
       "      <th>reviews_per_month</th>\n",
       "      <th>room_type</th>\n",
       "      <th>security_deposit</th>\n",
       "      <th>price_bins</th>\n",
       "      <th>accom_bins</th>\n",
       "      <th>min_night_bins</th>\n",
       "      <th>host_bins</th>\n",
       "      <th>avg_dist</th>\n",
       "      <th>avg_dist_bins</th>\n",
       "    </tr>\n",
       "  </thead>\n",
       "  <tbody>\n",
       "    <tr>\n",
       "      <th>0</th>\n",
       "      <td>0</td>\n",
       "      <td>2</td>\n",
       "      <td>1.0</td>\n",
       "      <td>1.0</td>\n",
       "      <td>1.0</td>\n",
       "      <td>strict</td>\n",
       "      <td>330.0</td>\n",
       "      <td>0</td>\n",
       "      <td>t</td>\n",
       "      <td>f</td>\n",
       "      <td>...</td>\n",
       "      <td>10.0</td>\n",
       "      <td>0.53</td>\n",
       "      <td>Entire home/apt</td>\n",
       "      <td>500.0</td>\n",
       "      <td>medium</td>\n",
       "      <td>two</td>\n",
       "      <td>6-10</td>\n",
       "      <td>10-50</td>\n",
       "      <td>12.708850</td>\n",
       "      <td>(12.55, 13.077]</td>\n",
       "    </tr>\n",
       "    <tr>\n",
       "      <th>1</th>\n",
       "      <td>1</td>\n",
       "      <td>2</td>\n",
       "      <td>1.5</td>\n",
       "      <td>1.0</td>\n",
       "      <td>1.0</td>\n",
       "      <td>flexible</td>\n",
       "      <td>0.0</td>\n",
       "      <td>0</td>\n",
       "      <td>t</td>\n",
       "      <td>f</td>\n",
       "      <td>...</td>\n",
       "      <td>0.0</td>\n",
       "      <td>0.00</td>\n",
       "      <td>Private room</td>\n",
       "      <td>0.0</td>\n",
       "      <td>low</td>\n",
       "      <td>two</td>\n",
       "      <td>greater 10</td>\n",
       "      <td>1</td>\n",
       "      <td>13.932346</td>\n",
       "      <td>(13.58, 14.82]</td>\n",
       "    </tr>\n",
       "    <tr>\n",
       "      <th>2</th>\n",
       "      <td>2</td>\n",
       "      <td>4</td>\n",
       "      <td>2.0</td>\n",
       "      <td>2.0</td>\n",
       "      <td>2.0</td>\n",
       "      <td>moderate</td>\n",
       "      <td>180.0</td>\n",
       "      <td>0</td>\n",
       "      <td>t</td>\n",
       "      <td>t</td>\n",
       "      <td>...</td>\n",
       "      <td>9.0</td>\n",
       "      <td>2.38</td>\n",
       "      <td>Entire home/apt</td>\n",
       "      <td>500.0</td>\n",
       "      <td>very_high</td>\n",
       "      <td>3&amp;4</td>\n",
       "      <td>3</td>\n",
       "      <td>1</td>\n",
       "      <td>12.777085</td>\n",
       "      <td>(12.55, 13.077]</td>\n",
       "    </tr>\n",
       "    <tr>\n",
       "      <th>3</th>\n",
       "      <td>3</td>\n",
       "      <td>6</td>\n",
       "      <td>1.5</td>\n",
       "      <td>3.0</td>\n",
       "      <td>4.0</td>\n",
       "      <td>flexible</td>\n",
       "      <td>80.0</td>\n",
       "      <td>0</td>\n",
       "      <td>f</td>\n",
       "      <td>f</td>\n",
       "      <td>...</td>\n",
       "      <td>10.0</td>\n",
       "      <td>1.96</td>\n",
       "      <td>Entire home/apt</td>\n",
       "      <td>0.0</td>\n",
       "      <td>medium</td>\n",
       "      <td>&gt;4</td>\n",
       "      <td>4</td>\n",
       "      <td>1</td>\n",
       "      <td>13.678804</td>\n",
       "      <td>(13.58, 14.82]</td>\n",
       "    </tr>\n",
       "    <tr>\n",
       "      <th>4</th>\n",
       "      <td>4</td>\n",
       "      <td>4</td>\n",
       "      <td>1.0</td>\n",
       "      <td>2.0</td>\n",
       "      <td>2.0</td>\n",
       "      <td>moderate</td>\n",
       "      <td>85.0</td>\n",
       "      <td>50</td>\n",
       "      <td>t</td>\n",
       "      <td>f</td>\n",
       "      <td>...</td>\n",
       "      <td>10.0</td>\n",
       "      <td>2.73</td>\n",
       "      <td>Entire home/apt</td>\n",
       "      <td>350.0</td>\n",
       "      <td>medium</td>\n",
       "      <td>3&amp;4</td>\n",
       "      <td>2</td>\n",
       "      <td>3-10</td>\n",
       "      <td>14.244064</td>\n",
       "      <td>(13.58, 14.82]</td>\n",
       "    </tr>\n",
       "  </tbody>\n",
       "</table>\n",
       "<p>5 rows × 36 columns</p>\n",
       "</div>"
      ],
      "text/plain": [
       "   Id  accommodates  bathrooms  bedrooms  beds cancellation_policy  \\\n",
       "0   0             2        1.0       1.0   1.0              strict   \n",
       "1   1             2        1.5       1.0   1.0            flexible   \n",
       "2   2             4        2.0       2.0   2.0            moderate   \n",
       "3   3             6        1.5       3.0   4.0            flexible   \n",
       "4   4             4        1.0       2.0   2.0            moderate   \n",
       "\n",
       "   cleaning_fee  extra_people host_identity_verified host_is_superhost  \\\n",
       "0         330.0             0                      t                 f   \n",
       "1           0.0             0                      t                 f   \n",
       "2         180.0             0                      t                 t   \n",
       "3          80.0             0                      f                 f   \n",
       "4          85.0            50                      t                 f   \n",
       "\n",
       "        ...         review_scores_value reviews_per_month        room_type  \\\n",
       "0       ...                        10.0              0.53  Entire home/apt   \n",
       "1       ...                         0.0              0.00     Private room   \n",
       "2       ...                         9.0              2.38  Entire home/apt   \n",
       "3       ...                        10.0              1.96  Entire home/apt   \n",
       "4       ...                        10.0              2.73  Entire home/apt   \n",
       "\n",
       "   security_deposit  price_bins  accom_bins  min_night_bins  host_bins  \\\n",
       "0             500.0      medium         two            6-10      10-50   \n",
       "1               0.0         low         two      greater 10          1   \n",
       "2             500.0   very_high         3&4               3          1   \n",
       "3               0.0      medium          >4               4          1   \n",
       "4             350.0      medium         3&4               2       3-10   \n",
       "\n",
       "    avg_dist    avg_dist_bins  \n",
       "0  12.708850  (12.55, 13.077]  \n",
       "1  13.932346   (13.58, 14.82]  \n",
       "2  12.777085  (12.55, 13.077]  \n",
       "3  13.678804   (13.58, 14.82]  \n",
       "4  14.244064   (13.58, 14.82]  \n",
       "\n",
       "[5 rows x 36 columns]"
      ]
     },
     "execution_count": 82,
     "metadata": {},
     "output_type": "execute_result"
    }
   ],
   "source": [
    "data.head()"
   ]
  },
  {
   "cell_type": "code",
   "execution_count": 87,
   "metadata": {
    "collapsed": true
   },
   "outputs": [],
   "source": [
    "\"\"\" scaling numerical variables \"\"\"\n",
    "#numeric = Imputer().fit_transform(trans_static.loc[:,num_var_list])\n",
    "from sklearn.preprocessing import StandardScaler\n",
    "numeric = data.loc[:,num_var]\n",
    "#numeric  = pd.DataFrame(MinMaxScaler().fit_transform(numeric))\n",
    "numeric  = pd.DataFrame(StandardScaler().fit_transform(numeric))\n"
   ]
  },
  {
   "cell_type": "code",
   "execution_count": 88,
   "metadata": {
    "collapsed": true
   },
   "outputs": [],
   "source": [
    "final_df = pd.concat([encode,numeric] , axis= 1)"
   ]
  },
  {
   "cell_type": "code",
   "execution_count": 89,
   "metadata": {
    "collapsed": true
   },
   "outputs": [],
   "source": [
    "#train and test split\n",
    "\n",
    "x_train = final_df.head(1000)\n",
    "y_train = train['price']\n",
    "x_test = final_df.tail(7967)\n",
    "\n",
    "# We had merged train and test in the beginning\n",
    "# we are splitting accordingly now"
   ]
  },
  {
   "cell_type": "code",
   "execution_count": 91,
   "metadata": {},
   "outputs": [
    {
     "name": "stderr",
     "output_type": "stream",
     "text": [
      "C:\\Users\\Prudhvi\\Anaconda3\\lib\\site-packages\\sklearn\\ensemble\\weight_boosting.py:29: DeprecationWarning: numpy.core.umath_tests is an internal NumPy module and should not be imported. It will be removed in a future NumPy release.\n",
      "  from numpy.core.umath_tests import inner1d\n"
     ]
    }
   ],
   "source": [
    "from sklearn.ensemble import RandomForestRegressor\n",
    "from sklearn.metrics import mean_squared_error as mse\n",
    "from math import sqrt\n",
    "\n"
   ]
  },
  {
   "cell_type": "code",
   "execution_count": null,
   "metadata": {
    "collapsed": true
   },
   "outputs": [],
   "source": [
    "\"\"\" Random Forest model \"\"\"\n",
    "\n",
    "model = RandomForestRegressor(n_estimators=300 , max_features=8, max_depth= 80)\n",
    "model.fit(x_train,y_train)\n",
    "preds = model.predict(x_train)\n"
   ]
  },
  {
   "cell_type": "code",
   "execution_count": 93,
   "metadata": {},
   "outputs": [
    {
     "data": {
      "text/plain": [
       "0.9374450728571956"
      ]
     },
     "execution_count": 93,
     "metadata": {},
     "output_type": "execute_result"
    }
   ],
   "source": [
    "model.score(x_train,y_train)\n",
    "# model scored a adjusted R squared of 93%"
   ]
  },
  {
   "cell_type": "code",
   "execution_count": 94,
   "metadata": {},
   "outputs": [
    {
     "data": {
      "text/plain": [
       "22.855735798180774"
      ]
     },
     "execution_count": 94,
     "metadata": {},
     "output_type": "execute_result"
    }
   ],
   "source": [
    "sqrt(mse(y_train,preds))"
   ]
  },
  {
   "cell_type": "code",
   "execution_count": 95,
   "metadata": {
    "collapsed": true
   },
   "outputs": [],
   "source": [
    "# RMSE error is 22.85\n",
    "# which means on an avg our prediction price is 22 $ away from actual price. "
   ]
  },
  {
   "cell_type": "code",
   "execution_count": null,
   "metadata": {
    "collapsed": true
   },
   "outputs": [],
   "source": []
  }
 ],
 "metadata": {
  "kernelspec": {
   "display_name": "Python 3",
   "language": "python",
   "name": "python3"
  },
  "language_info": {
   "codemirror_mode": {
    "name": "ipython",
    "version": 3
   },
   "file_extension": ".py",
   "mimetype": "text/x-python",
   "name": "python",
   "nbconvert_exporter": "python",
   "pygments_lexer": "ipython3",
   "version": "3.6.8"
  }
 },
 "nbformat": 4,
 "nbformat_minor": 2
}
